{
  "nbformat": 4,
  "nbformat_minor": 2,
  "metadata": {
    "colab": {
      "name": "COMS3251_Numpy_Tutorial.ipynb",
      "provenance": [],
      "toc_visible": true
    },
    "kernelspec": {
      "name": "python3",
      "display_name": "Python 3.6.13 64-bit ('env_nlp': conda)"
    },
    "language_info": {
      "name": "python",
      "version": "3.6.13",
      "mimetype": "text/x-python",
      "codemirror_mode": {
        "name": "ipython",
        "version": 3
      },
      "pygments_lexer": "ipython3",
      "nbconvert_exporter": "python",
      "file_extension": ".py"
    },
    "interpreter": {
      "hash": "f78e94ca1a29e9011c2866c841de859bf08fcc5b57f07b9ffb161018ea406f8e"
    }
  },
  "cells": [
    {
      "cell_type": "markdown",
      "source": [
        "# COMS 3251 $\\LaTeX$, Python, and NumPy Tutorial\n",
        "\n",
        "Columbia's beloved Professor, Tony Dear, generously let our class borrow the computational linear algebra crash course to Numpy. Enjoy! \n",
        "\n",
        "This \"tutorial\" will help you get started with the first assignment in this course. Note that both $\\LaTeX$ and Python have functionalities that go well beyond what is covered here. You are highly encouraged to seek out other guides and tutorials to further master these tools and languages as you progress through this course and more advanced courses."
      ],
      "metadata": {
        "id": "umnw-wS8Kd6y"
      }
    },
    {
      "cell_type": "markdown",
      "source": [
        "# Jupyter Notebooks\n",
        "\n",
        "First, you probably already know that this is a Jupyter notebook. You might be viewing this on Google Colab, Jupyter's native IDE, or another compatible platform. The main benefit of these notebooks is that they combine plaintext and images with executable code. This paragraph is contained in a text cell, which you can edit by double-clicking it on it. You should see all the standard formatting tools (heading, bold, italics, code format, hyperlink, images, indentation, lists, bullets, and horizontal rule). \n",
        "\n",
        "If you highlight this or any other cell, you'll also see some tools in the upper right corner. You can move the cell within the notebook, link to it, or comment on it. You can add a new text or code cell anywhere in the notebook by clicking on the corresponding button underneath the main toolbar. Finally, if you open the table of contents on the left side (assuming you are on Colab), you can jump around the notebook by clicking on the headers of different sections."
      ],
      "metadata": {
        "id": "bYmCwebPMnl_"
      }
    },
    {
      "cell_type": "markdown",
      "source": [
        "# NumPy Tutorial\n",
        "\n",
        "We'll be dealing a lot with 1-dimensional vectors and 2-dimensional matrices. The obvious way to represent these in code are 1-dim and 2-dim arrays.\n",
        "\n",
        "Let's look at representing the following vectors and matrices with simple Python lists of lists, where each list element of the \"outer\" list is a distinct row of the overall matrix:\n",
        "\n",
        "$\\mathbf{u} = \\begin{bmatrix} 1 & 0 & 4 & 6 \\end{bmatrix}$\n",
        "\n",
        "$\\mathbf{v} = \\mathbf{u}^T = \\begin{bmatrix} 1 \\\\ 0 \\\\ 4 \\\\ 6 \\end{bmatrix}$\n",
        "\n",
        "$A = \\begin{bmatrix} 4 & 6 & 2 & 0 \\\\ 3 & 7 & 2 & 9 \\\\ 0 & 1 & 4 & 2 \\\\ 9 & 3 & 5 & 6 \\end{bmatrix} $"
      ],
      "metadata": {
        "id": "YpGKFgZTMFD3"
      }
    },
    {
      "cell_type": "code",
      "execution_count": 1,
      "source": [
        "u = [[1, 0, 4, 6]]\n",
        "v = [[1],\n",
        "     [0],\n",
        "     [4],\n",
        "     [6]]\n",
        "A = [[4, 6, 2, 0],\n",
        "     [3, 7, 2, 9],\n",
        "     [0, 1, 4, 2],\n",
        "     [9, 3, 5, 6]]"
      ],
      "outputs": [],
      "metadata": {
        "id": "S4DpO82VQ2So"
      }
    },
    {
      "cell_type": "markdown",
      "source": [
        "Cool! Now, calculate $A^T A$.\n",
        "\n",
        "Just kidding. While you can do it, implementing all of the various matrix operations (transpose, multiplication, etc.) using Python lists can be pretty painful. Linear algebra is a major part of computer science, so there should be a package that can do this for us! Introducing... NumPy.\n",
        "\n",
        "## Array Creation\n",
        "\n",
        "Numpy turns lists into Numpy arrays, on which we can do various linear algebra operations. Even better, these data structures are optimized for speed and efficiency. Let's convert $\\mathbf{u}$, $\\mathbf{v}$, and $A$ into Numpy arrays first.\n"
      ],
      "metadata": {
        "id": "ruNfCaouRSCZ"
      }
    },
    {
      "cell_type": "code",
      "execution_count": 2,
      "source": [
        "# RUN THIS FIRST\n",
        "import numpy as np      # imports the numpy package"
      ],
      "outputs": [],
      "metadata": {
        "id": "rOSWDjBOibNC"
      }
    },
    {
      "cell_type": "code",
      "execution_count": 3,
      "source": [
        "# Example 1: Creating Numpy arrays from lists\n",
        "print(A)\n",
        "\n",
        "u_arr = np.array(u)\n",
        "v_arr = np.array(v)\n",
        "A_arr = np.array(A)\n",
        "\n",
        "print(A_arr)"
      ],
      "outputs": [
        {
          "output_type": "stream",
          "name": "stdout",
          "text": [
            "[[4, 6, 2, 0], [3, 7, 2, 9], [0, 1, 4, 2], [9, 3, 5, 6]]\n",
            "[[4 6 2 0]\n",
            " [3 7 2 9]\n",
            " [0 1 4 2]\n",
            " [9 3 5 6]]\n"
          ]
        }
      ],
      "metadata": {
        "id": "rzpVlDqlWPcL"
      }
    },
    {
      "cell_type": "markdown",
      "source": [
        "And that it's! Notice how Numpy arrays print as matrices by default. We can also create special arrays using the following functions. Feel free to print any of them to verify the results."
      ],
      "metadata": {
        "id": "HaZFUEY-Wwxs"
      }
    },
    {
      "cell_type": "code",
      "execution_count": null,
      "source": [
        "# Example 2: Creating special matrices\n",
        "m = 4\n",
        "n = 3\n",
        "\n",
        "z = np.zeros((m,n))                       # Zeros matrix of size m by n\n",
        "o = np.ones((m,n))                        # Ones matrix of size m by n\n",
        "c = np.full((m,n), 3)                     # Constant matrix of size m by n\n",
        "id = np.eye(n)                            # Identity matrix of size n\n",
        "\n",
        "r = np.random.random((m,n))               # Random matrix of size m by n\n",
        "ri = np.random.randint(0, 10, size=(m,n)) # Random integer matrix of size m by n"
      ],
      "outputs": [],
      "metadata": {
        "id": "X8nAXXJhqBf8"
      }
    },
    {
      "cell_type": "markdown",
      "source": [
        "## Array Indexing\n",
        "\n",
        "You already know how to access and modify specific elements of Python lists. Indexing Numpy arrays works much the same, except that it may be even simpler. Take a look at the following:"
      ],
      "metadata": {
        "id": "js80g13HquIK"
      }
    },
    {
      "cell_type": "code",
      "execution_count": null,
      "source": [
        "# Example: Array indexing\n",
        "\n",
        "# Accessing a single element\n",
        "print(A[1][3])          # for a 2D list, we access it normally\n",
        "print(A_arr[1,3])       # for a 2D numpy array, we have this shortened form.\n",
        "\n",
        "# Accessing a row\n",
        "print(A[1])             # these are the same.\n",
        "print(A_arr[1])"
      ],
      "outputs": [],
      "metadata": {
        "id": "rTcLpFdbrec1"
      }
    },
    {
      "cell_type": "markdown",
      "source": [
        "With a list of lists, you need two separate indices; the first is for the \"outer\" list, and the second is for the \"inner\" list. With a Numpy array, indices all appear in one set of brackets, separated by a comma. The first indexes the row, and the second indexes the column.\n",
        "\n",
        "You can also take array slices using the `:` operator. Take a look at the following examples."
      ],
      "metadata": {
        "id": "hVAqElmSrkWa"
      }
    },
    {
      "cell_type": "code",
      "execution_count": null,
      "source": [
        "# Example: Array slicing\n",
        "\n",
        "# Accessing a column\n",
        "_col = []               # accessing a column is hard for a 2D list.\n",
        "for arow in A:          # we have to iterate through each row and get each \n",
        "    _col.append(arow[2])# value.\n",
        "print(_col)\n",
        "\n",
        "print(A_arr[:, 2])      # but this is very easy for a numpy array.\n",
        "                        # \":\" indicates we want values from all rows, while\n",
        "                        # \"2\" specifies which column.\n",
        "                        # This is familiar if you know MATLAB.\n"
      ],
      "outputs": [],
      "metadata": {
        "id": "1MFMwlq5XAhe"
      }
    },
    {
      "cell_type": "code",
      "execution_count": null,
      "source": [
        "# Advanced slicing\n",
        "# The colon operator is actually very powerful. In general, you can call\n",
        "# A[begin:end:interval] where indices are [begin, end)\n",
        "\n",
        "print(A_arr)\n",
        "print(A_arr[0:2])       # Just the rows from 0 to 2 (but not including 2!)\n",
        "\n",
        "print(A_arr[:2,:2])     # Just the top left corner of matrix A_arr \n",
        "                        # If the begin index is dropped, 0 is assumed\n",
        "\n",
        "print(A_arr[::2,1:])    # Every second row, from begin to end; \n",
        "                        # All columns from second to end\n",
        "                        # If the end index is dropped, last is assumed\n",
        "\n",
        "print(A_arr[-1,-1])     # -1 refers to the last index of either row or column"
      ],
      "outputs": [],
      "metadata": {
        "id": "NVKFqYQ8ZR8A"
      }
    },
    {
      "cell_type": "markdown",
      "source": [
        "## Array Operations\n",
        "\n",
        "Anything that you can do with matrices in linear algebra, you can do in Numpy. Try out the following operations!"
      ],
      "metadata": {
        "id": "8v1Bzuo6cCFR"
      }
    },
    {
      "cell_type": "code",
      "execution_count": null,
      "source": [
        "# Example: Basic array operations\n",
        "\n",
        "B = np.random.randint(0, 10, (4, 4))\n",
        "print(B)\n",
        "C = np.random.randint(0, 10, (4, 4))\n",
        "print(C)\n",
        "\n",
        "print(B.shape)  # matrix dimensions\n",
        "print(B + C)    # element-wise addition\n",
        "print(B - C)    # element-wise subtraction\n",
        "print(B * C)    # element-wise multiplication\n",
        "print(B / C)    # element-wise division\n",
        "print(B + 2)    # scalar addition (subtraction, multiplication, etc.)\n",
        "print(B.T)      # matrix transpose"
      ],
      "outputs": [],
      "metadata": {
        "id": "m1ZOO71GzE8r"
      }
    },
    {
      "cell_type": "markdown",
      "source": [
        "Two operations of interest are vector-vector dot products, and matrix-matrix and matrix-vector multiplication. In Numpy they are all implemented by the same function, depending on the arguments provided. Carefully study the following examples."
      ],
      "metadata": {
        "id": "IeM-6i_WwVYK"
      }
    },
    {
      "cell_type": "code",
      "execution_count": null,
      "source": [
        "# Example: Array multiplication\n",
        "# As a shortcut, you can also use x@y in place of x.dot(y)\n",
        "\n",
        "print(B.dot(C))      # regular matrix multiplication\n",
        "\n",
        "D = np.array([1,2,3,4]) # matrix-vector multiplication \n",
        "print(B.dot(D))      # matrix-vector multiplication, returns a 1d array\n",
        "\n",
        "Dm = np.array([[1],\n",
        "               [2],\n",
        "               [3],\n",
        "               [4]])\n",
        "print(B.dot(Dm))     # this is actually matrix-matrix multiplication\n",
        "                        # returns a 2d array of a column vector\n",
        "E = np.array([5,6,7,8])\n",
        "print(D.dot(E))      # dot product of two 1d arrays\n",
        "\n",
        "# print(Dm.dot(E))   # error!! size mismatch since Dm is a 2d array, not vector"
      ],
      "outputs": [],
      "metadata": {
        "id": "aAQU9RYcwIQl"
      }
    },
    {
      "cell_type": "markdown",
      "source": [
        "## NumPy Functions\n",
        "\n",
        "NumPy contains most of the standard math functions that you might encounter, many of them operating on arrays elementwise. Examples include functions like `np.sqrt`, `np.sin`, `np.exp`, `np.log`, `np.absolute`, and many others. Complete listings of useful functions can be found in the following links:\n",
        "\n",
        "Math: https://numpy.org/doc/stable/reference/routines.math.html\n",
        "\n",
        "Statistics: https://numpy.org/doc/stable/reference/routines.statistics.html\n",
        "\n",
        "You may also sometimes find the need to use aggregating functions that look at all elements within a certain column, row, or the entire array. See examples below.\n",
        "\n"
      ],
      "metadata": {
        "id": "-ZJpUCDyznRe"
      }
    },
    {
      "cell_type": "code",
      "execution_count": null,
      "source": [
        "# Example: Sum, max, and min\n",
        "\n",
        "print(A_arr)                  # remind ourselves what this looks like...\n",
        "print(np.sum(A_arr))          # sum of all array elements\n",
        "print(np.sum(A_arr, axis=0))  # sum all rows together: row1 + row2 + ... \n",
        "print(np.sum(A_arr, axis=1))  # sum all cols together: col1 + col2 + ... \n",
        "\n",
        "print(np.max(A_arr))          # same as above, but with max and min functions\n",
        "print(np.min(A_arr))\n",
        "print(np.max(A_arr, axis=1))\n",
        "print(np.min(A_arr, axis=0))"
      ],
      "outputs": [],
      "metadata": {
        "id": "-Xqsxaqk2Gg1"
      }
    },
    {
      "cell_type": "markdown",
      "source": [
        "## More Resources\n",
        "\n",
        "A useful Google search pattern is `numpy (insert linear algebra function here)`\n",
        "\n",
        "Complete NumPy documentation: https://numpy.org/doc/stable/\n",
        "\n",
        "NumPy Quickstart Tutorial: https://numpy.org/doc/stable/user/quickstart.html\n",
        "\n",
        "Stanford CS231n Python/NumPy Tutorial: http://cs231n.github.io/python-numpy-tutorial/"
      ],
      "metadata": {
        "id": "TVUB-4zlV5ZV"
      }
    },
    {
      "cell_type": "markdown",
      "source": [
        "# Pyplot Tutorial\n",
        "\n",
        "The last \"library\" that you should be aware of for now is `matplotlib.pyplot`. Actually, `matplotlib` is the library and `pyplot` is really an interface inside it, but it is used so often on its own that it is common to import just `pyplot` and nothing else:"
      ],
      "metadata": {
        "id": "Xru6lKlhBOq_"
      }
    },
    {
      "cell_type": "code",
      "execution_count": null,
      "source": [
        "import matplotlib.pyplot as plt"
      ],
      "outputs": [],
      "metadata": {
        "id": "C052Hf9uBq8p"
      }
    },
    {
      "cell_type": "markdown",
      "source": [
        "Pyplot contains numerous functionalities for plotting data and values, customizing those plots, and generating more complex images and figures as well. While we could have included another mini-tutorial here, we felt that the existing one in `matplotlib`'s documentation is quite helpful already: https://matplotlib.org/stable/tutorials/introductory/pyplot.html. You should read through and also test out the code in the first few subsections, at least up to \"Plotting with keyword strings\".\n",
        "\n"
      ],
      "metadata": {
        "id": "OvjT4U_FBt5N"
      }
    }
  ]
}