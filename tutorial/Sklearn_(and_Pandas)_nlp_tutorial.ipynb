{
  "nbformat": 4,
  "nbformat_minor": 2,
  "metadata": {
    "colab": {
      "name": "Sklearn_(and_Pandas)_nlp_tutorial.ipynb",
      "provenance": []
    },
    "kernelspec": {
      "name": "python3",
      "display_name": "Python 3.6.13 64-bit ('env_nlp': conda)"
    },
    "language_info": {
      "name": "python",
      "version": "3.6.13",
      "mimetype": "text/x-python",
      "codemirror_mode": {
        "name": "ipython",
        "version": 3
      },
      "pygments_lexer": "ipython3",
      "nbconvert_exporter": "python",
      "file_extension": ".py"
    },
    "interpreter": {
      "hash": "f78e94ca1a29e9011c2866c841de859bf08fcc5b57f07b9ffb161018ea406f8e"
    }
  },
  "cells": [
    {
      "cell_type": "markdown",
      "source": [
        "# Drew Sirenko's sklearn (and Pandas) crash course for NLP\n",
        "Below you will find a simple template for classification problems, using sklearn's 20 newsgroups text dataset as our example. \n",
        "\n",
        "- Make a copy of this by clicking File/Copy Notebook in the toolbar.\n",
        "\n",
        "- Please RUN the cells in order by clicking the play button on each cell, or clicking Runtime/run_all in the toolbar above. \n",
        "\n",
        "- Use the Table of contents button on the left to jump around. \n",
        "\n",
        "- Sidenote: Usually Python files have all their imports at the top. I'm going to betray that rule by importing things right before we use them, so you know what's what. \n",
        "\n",
        "- Sidenote2: While jupyter notebook's are great for scaffolding code, they don't do the best job of mimicking real Python files. For hw1, you will need to submit a .py file. If you don't want to have to messily convert a notebook into a .py file, I HIGHLY reccomend learning VScode's iPython features to combine the best parts of jupyter notebooks (the running code one cell at a time) while keeping the structure of Python files: https://code.visualstudio.com/docs/python/jupyter-support-py"
      ],
      "metadata": {
        "id": "pFBnTLlP_00p"
      }
    },
    {
      "cell_type": "markdown",
      "source": [
        "## Data Prep (Preprocessing and Train/Validation/Test Split)\n",
        "\n",
        "In this tutorial, we're kind of cheating by just loading the dataset from inside sklearn. In hw1 (and real life), you'll have to create a pipeline to turn some messy json or csv into training/validation/testing data and features. **So think of fetch_20newsgroups as a function you'd have in your features.py**\n",
        "\n",
        "I've attatched an appendix at the end on my favorite tool to explore data with, Pandas. \n",
        "\n"
      ],
      "metadata": {
        "id": "vVrmqUwgAydO"
      }
    },
    {
      "cell_type": "code",
      "execution_count": 1,
      "source": [
        "from sklearn.datasets import fetch_20newsgroups\n",
        "from sklearn.model_selection import train_test_split\n",
        "\n",
        "# ALWAYS Shuffle your data!!!\n",
        "data_train = fetch_20newsgroups(subset='train', shuffle=True, random_state=42, \n",
        "                                categories= ['alt.atheism', 'talk.religion.misc','comp.graphics', 'sci.space']) \n",
        "data_test = fetch_20newsgroups(subset='test', shuffle=True, random_state=42,\n",
        "                               categories= ['alt.atheism', 'talk.religion.misc','comp.graphics', 'sci.space'])\n",
        "\n",
        "\n",
        "# OR when you have one data source and need to manually create train/validation/test splits\n",
        "\"\"\"\n",
        "data = fetch_20newsgroups(subset='all') \n",
        "data_train, data_test, y_train, y_test = train_test_split(\n",
        "    data.data, data.target, test_size=0.2, random_state=42)\n",
        "\"\"\"\n",
        "\n",
        "# Don't want to waste so much data just for validation? Do k-fold cross validation \n",
        "# with https://scikit-learn.org/stable/modules/generated/sklearn.model_selection.StratifiedKFold.html\n",
        "# NOT sklearn's default cross validation functions\n"
      ],
      "outputs": [
        {
          "output_type": "execute_result",
          "data": {
            "text/plain": [
              "\"\\ndata = fetch_20newsgroups(subset='all') \\ndata_train, data_test, y_train, y_test = train_test_split(\\n    data.data, data.target, test_size=0.2, random_state=42)\\n\""
            ]
          },
          "metadata": {},
          "execution_count": 1
        }
      ],
      "metadata": {
        "colab": {
          "base_uri": "https://localhost:8080/",
          "height": 88
        },
        "id": "nfgT7ZjCCBEw",
        "outputId": "63eaae6b-0fbc-4441-a41c-359583c3d338"
      }
    },
    {
      "cell_type": "markdown",
      "source": [
        "## Feature Generation (And concatenation)\n",
        "**Think of these functions as what you'd also have in your features.py**\n",
        "\n",
        "Remember CountVectorizer from hw0? Well sklearn has their own versions (and some are pretty similar to the one you built!)\n",
        "\n",
        "Vectorizers break up your text_data into ngrams (there's a parameter for it), then count how often they appear!\n",
        "\n",
        "  - vectorizer.fit learns a vocabulary dictionary of all tokens in the raw documents.\n",
        "  - vectorizer.transform transforms the text into a SPARSE matrix where: \n",
        "    - every column is a separate ngram from the fitted dictionary, \n",
        "    - a row for each document in the data, \n",
        "    - where each value (i,j) is how many times the jth ngram occured in the ith document\n",
        "  - vectorizer.fit_transform() applies fit, then transform. Make sure to only fit your vectorizer on the TRAINING data\n",
        "\n",
        "\n",
        "\n",
        "Sidenote: Features are usually SPARSE matrices, so make sure to use scipy's vstack and hstack to combine features. \n",
        "  - More info here: https://machinelearningmastery.com/sparse-matrices-for-machine-learning/"
      ],
      "metadata": {
        "id": "eWW6h34hDhbc"
      }
    },
    {
      "cell_type": "code",
      "execution_count": 5,
      "source": [
        "'''These functions would go in features.py'''\n",
        "\n",
        "def get_ngrams(data_train, data_test):\n",
        "  # Hint! There are a few paramaters for vectorizers in sklearn that might\n",
        "  # help with this homework! \n",
        "  vectorizer = CountVectorizer()\n",
        "\n",
        "\n",
        "  X_train_ngrams = vectorizer.fit_transform(data_train.data)\n",
        "  X_test_ngrams = vectorizer.transform(data_test.data)\n",
        "  return X_train_ngrams, X_test_ngrams\n",
        "\n",
        "\n",
        "'''Generates noisy features for data'''\n",
        "import numpy as np\n",
        "def get_noise(data, cols=5):\n",
        "  noisy_features = np.random.rand(len(data.data),cols)\n",
        "  return noisy_features\n",
        "\n",
        "'''Generates/Concatenates features from data'''\n",
        "import scipy as sp\n",
        "from scipy.sparse import coo_matrix, hstack\n",
        "def get_features(data_train, data_test, model = \"Ngrams+noise\"):\n",
        "\n",
        "  # Initialize 'empty' features matrices\n",
        "  X_train, X_test = np.empty((len(data_train.data), 0)), np.empty((len(data_test.data), 0))\n",
        "  print(X_train.shape, X_test.shape)\n",
        "\n",
        "  # Get ngrams features if wanted\n",
        "  if \"ngrams\" in model:\n",
        "    X_train_ngrams, X_test_ngrams = get_ngrams(data_train, data_test)\n",
        "    # NEED TO hstack with scipy because you're dealing with SPARSE matrices\n",
        "    print(X_train_ngrams.shape)\n",
        "    X_train = hstack([X_train, X_train_ngrams])\n",
        "    X_test = hstack([X_test, X_test_ngrams])\n",
        "\n",
        "  # Get noisy features if wanted\n",
        "  if \"noise\" in model:\n",
        "    X_train_noise, X_test_noise = get_noise(data_train, cols=2), get_noise(data_test, cols=2)\n",
        "    X_train = hstack([X_train, X_train_noise])\n",
        "    X_test = hstack([X_test, X_test_noise])\n",
        "\n",
        "  return X_train, X_test\n",
        "\n",
        "def get_labels(data_train, data_test):\n",
        "  y_train = data_train.target\n",
        "  y_test = data_test.target\n",
        "  return y_train, y_test\n",
        "\n",
        "#---------------------------------------------------------------------------\n",
        "#---------------------------------------------------------------------------\n",
        "#---------------------------------------------------------------------------\n",
        "\n",
        "'''This would go with the rest of your sklearn code'''\n",
        "model = \"ngrams+noise\"\n",
        "X_train, X_test = get_features(data_train, data_test, model=model)\n",
        "y_train, y_test = get_labels(data_train, data_test)"
      ],
      "outputs": [
        {
          "output_type": "stream",
          "name": "stdout",
          "text": [
            "(2034, 0) (1353, 0)\n",
            "(2034, 34118)\n"
          ]
        }
      ],
      "metadata": {
        "id": "ZsR-K-6tMBbZ"
      }
    },
    {
      "cell_type": "code",
      "execution_count": null,
      "source": [],
      "outputs": [],
      "metadata": {}
    },
    {
      "cell_type": "markdown",
      "source": [
        "## Training the model\n",
        "HEY THERE **Make sure you use a logistic classifier for hw1; check 1.1.11 of the sklearn user guide :)**\n",
        "\n",
        "Yes it's really that simple, just:\n",
        "1. Choose one of sklearn's pre-packaged models\n",
        "2. Play with the parameters (or even better, **grid search** for the best ones)\n",
        "3. Pass in some SPARSE matrices with your data\n",
        "4. And call .fit()\n",
        "\n",
        "- Sidenote: Remember to split your training data again into training and validation sets in order to not overfit your model \n",
        "  - (If you're optimizing your paramaters based off of the test set, it won't generalize as well to unseen data) (In hw1 this doesn't matter because we're hiding the real test data)\n",
        "\n",
        "\n",
        "- Sidenote2: Just going to leave this grid_search tutorial here...\n",
        "  - https://scikit-learn.org/stable/modules/grid_search.html\n",
        "\n"
      ],
      "metadata": {
        "id": "4pY9TDBoDjx8"
      }
    },
    {
      "cell_type": "code",
      "execution_count": null,
      "source": [
        "from sklearn.neighbors import KNeighborsClassifier \n",
        "from sklearn.naive_bayes import MultinomialNB\n",
        "\n",
        "# Params\n",
        "n_neighbors = 5\n",
        "weights = 'uniform'\n",
        "\n",
        "# clf is short for classifier\n",
        "# Note that first we instantiate the classifier object with our params\n",
        "clf = KNeighborsClassifier(n_neighbors, weights=weights)\n",
        "# THEN we fit it to our data\n",
        "clf.fit(X_train, y_train)\n",
        "\n",
        "# And here's a second classifier\n",
        "clf_MNB = MultinomialNB()\n",
        "clf_MNB.fit(X_train, y_train)\n",
        "\n",
        "# Just going to leave this grid_search tutorial here...\n",
        "# https://scikit-learn.org/stable/modules/grid_search.html"
      ],
      "outputs": [
        {
          "output_type": "execute_result",
          "data": {
            "text/plain": [
              "MultinomialNB(alpha=1.0, class_prior=None, fit_prior=True)"
            ]
          },
          "metadata": {},
          "execution_count": 13
        }
      ],
      "metadata": {
        "colab": {
          "base_uri": "https://localhost:8080/"
        },
        "id": "ulZz-HkFGUIJ",
        "outputId": "99fbccfa-0829-4a1a-f70a-e68b6711bd83"
      }
    },
    {
      "cell_type": "markdown",
      "source": [
        "## Evaluate Model on validation/test data"
      ],
      "metadata": {
        "id": "JQ_XdtNhDnNK"
      }
    },
    {
      "cell_type": "code",
      "execution_count": null,
      "source": [
        "# All you need is the .predict() function\n",
        "y_predicted_KNN = clf.predict(X_test)\n",
        "y_predicted_MNB = clf_MNB.predict(X_test)"
      ],
      "outputs": [],
      "metadata": {
        "id": "5DEkKdzkW_sd"
      }
    },
    {
      "cell_type": "markdown",
      "source": [
        "## Get some results on how good your models are\n",
        "\n",
        "NOTE: HW1 has some very specific output instructions that don't include all this stuff, BUT you should still try looking at these metrics to troubleshoot your models. "
      ],
      "metadata": {
        "id": "aqRrjRSIEETa"
      }
    },
    {
      "cell_type": "code",
      "execution_count": null,
      "source": [
        "from sklearn.metrics import classification_report, accuracy_score, balanced_accuracy_score, plot_confusion_matrix\n",
        "\n",
        "print('KNN Classification report:')\n",
        "print(classification_report(y_test, y_predicted_KNN,target_names=data_test.target_names))\n",
        "\n",
        "print(\"Accuracy score: \",accuracy_score(y_test, y_predicted_KNN))\n",
        "print(\"Balanced accuracy score: \",accuracy_score(y_test, y_predicted_KNN))\n",
        "\n",
        "plot_confusion_matrix(clf, X_test, y_test)\n"
      ],
      "outputs": [
        {
          "output_type": "stream",
          "name": "stdout",
          "text": [
            "KNN Classification report:\n",
            "                    precision    recall  f1-score   support\n",
            "\n",
            "       alt.atheism       0.54      0.64      0.58       319\n",
            "     comp.graphics       0.62      0.78      0.69       389\n",
            "         sci.space       0.80      0.52      0.63       394\n",
            "talk.religion.misc       0.47      0.43      0.45       251\n",
            "\n",
            "          accuracy                           0.61      1353\n",
            "         macro avg       0.61      0.59      0.59      1353\n",
            "      weighted avg       0.63      0.61      0.60      1353\n",
            "\n",
            "Accuracy score:  0.60679970436068\n",
            "Balanced accuracy score:  0.60679970436068\n"
          ]
        },
        {
          "output_type": "execute_result",
          "data": {
            "text/plain": [
              "<sklearn.metrics._plot.confusion_matrix.ConfusionMatrixDisplay at 0x7fbd77862e10>"
            ]
          },
          "metadata": {},
          "execution_count": 15
        },
        {
          "output_type": "display_data",
          "data": {
            "image/png": "[encoded data removed]",
            "text/plain": [
              "<Figure size 432x288 with 2 Axes>"
            ]
          },
          "metadata": {
            "needs_background": "light"
          }
        }
      ],
      "metadata": {
        "colab": {
          "base_uri": "https://localhost:8080/",
          "height": 535
        },
        "id": "m4Nr2nCpJw5H",
        "outputId": "6baa9db9-91a4-47f7-8f7e-6774d5dcc556"
      }
    },
    {
      "cell_type": "code",
      "execution_count": null,
      "source": [
        "from sklearn.metrics import classification_report, accuracy_score, balanced_accuracy_score, confusion_matrix\n",
        "\n",
        "print('MNB Classification report:')\n",
        "print(classification_report(y_test, y_predicted_MNB,target_names=data_test.target_names))\n",
        "\n",
        "print(\"Accuracy score: \",accuracy_score(y_test, y_predicted_MNB))\n",
        "print(\"Balanced accuracy score: \",accuracy_score(y_test, y_predicted_MNB))\n",
        "\n",
        "plot_confusion_matrix(clf_MNB, X_test, y_test)"
      ],
      "outputs": [
        {
          "output_type": "stream",
          "name": "stdout",
          "text": [
            "MNB Classification report:\n",
            "                    precision    recall  f1-score   support\n",
            "\n",
            "       alt.atheism       0.80      0.91      0.85       319\n",
            "     comp.graphics       0.96      0.95      0.95       389\n",
            "         sci.space       0.94      0.95      0.94       394\n",
            "talk.religion.misc       0.88      0.73      0.80       251\n",
            "\n",
            "          accuracy                           0.90      1353\n",
            "         macro avg       0.89      0.88      0.89      1353\n",
            "      weighted avg       0.90      0.90      0.90      1353\n",
            "\n",
            "Accuracy score:  0.8980044345898004\n",
            "Balanced accuracy score:  0.8980044345898004\n"
          ]
        },
        {
          "output_type": "execute_result",
          "data": {
            "text/plain": [
              "<sklearn.metrics._plot.confusion_matrix.ConfusionMatrixDisplay at 0x7fbd77af3510>"
            ]
          },
          "metadata": {},
          "execution_count": 16
        },
        {
          "output_type": "display_data",
          "data": {
            "image/png": "[encoded data removed]",
            "text/plain": [
              "<Figure size 432x288 with 2 Axes>"
            ]
          },
          "metadata": {
            "needs_background": "light"
          }
        }
      ],
      "metadata": {
        "colab": {
          "base_uri": "https://localhost:8080/",
          "height": 534
        },
        "id": "r2xL99FaXVJ9",
        "outputId": "0ecf6bef-d4d6-4778-8148-51b8048f1f06"
      }
    },
    {
      "cell_type": "markdown",
      "source": [
        "# Appendix A: Pandas for data exploration and cleaning\n",
        "\n",
        "In the Sep 24th Tutorial, Drew walked through some exploratory and data-cleaning with Pandas. \n",
        "\n",
        "For a more official tutorial, checkout https://pandas.pydata.org/pandas-docs/stable/user_guide/10min.html"
      ],
      "metadata": {
        "id": "rgsMSZcxKVzV"
      }
    },
    {
      "cell_type": "markdown",
      "source": [
        "## Loading data into a dataframe\n",
        "So let's say you just *happen* to find some data about users who vote on debate forums totally unrelated to HW1. How can you explore it, and pre-process it such that it's ready to train your startup's ML model? \n",
        "\n",
        "Well, Pandas let's you read a variety of common filetypes into something called a dataframe (think spreadsheet but cooler & more confusing)\n",
        "\n",
        "\"A dataFrame is a 2-dimensional labeled data structure with columns of potentially different types. You can think of it like a spreadsheet or SQL table, or a dict of Series objects.\" "
      ],
      "metadata": {
        "id": "k13McWl2aSCI"
      }
    },
    {
      "cell_type": "code",
      "execution_count": null,
      "source": [
        "import pandas as pd\n",
        "\n",
        "USER_PATH = \"YOUR_HW1_PATH_HERE/Archive/users.json\"\n",
        "\n",
        "# This orient index param is only for users.json\n",
        "# You might need some other params to read jsonl files...\n",
        "df_user =pd.read_json(USER_PATH, orient=\"index\") \n"
      ],
      "outputs": [],
      "metadata": {
        "id": "sWk-SeoVb4OO"
      }
    },
    {
      "cell_type": "markdown",
      "source": [
        "## Exploring your data"
      ],
      "metadata": {
        "id": "i1CD8GF2Io2x"
      }
    },
    {
      "cell_type": "code",
      "execution_count": null,
      "source": [
        "# Head function gets you the first n records (rows) in the dataframe\n",
        "print(df_user.head(5))\n",
        "\n",
        "# Cleanly returns the columns of your dataframe\n",
        "print(df_user.columns)\n",
        "\n",
        "# Get a subset of the columns with the df[[col1, col2]] notation\n",
        "df_user_subset = df_user[[\"birthday\", \"education\"]]\n",
        "print(df_user_subset)\n",
        "\n",
        "# Any single column of a dataframe is treated as a \"Series\", kind of like a list\n",
        "print(df_user_subset[\"birthday\"][0])\n",
        "\n",
        "# We can filter a dataframe with this notation\n",
        "df_user_subset_saying = df_user_subset[df_user_subset['education'] != \"Not Saying\"]\n",
        "print(df_user_subset_saying)\n",
        "\n",
        "# We can also count the number of unique values in a column\n",
        "counts = df_user_subset.nunique()\n",
        "print(counts)\n",
        "\n",
        "# And the how often each unique value appears in a column\n",
        "print(df_user_subset['education'].value_counts())"
      ],
      "outputs": [],
      "metadata": {
        "id": "1QhPZ4KVIsZf"
      }
    }
  ]
}