{
 "cells": [
  {
   "cell_type": "code",
   "execution_count": 106,
   "source": [
    "#%% \n",
    "import collections\n",
    "from numpy.lib.function_base import vectorize\n",
    "import pandas as pd \n",
    "import numpy as np\n",
    "import json\n",
    "from scipy import sparse\n",
    "import sklearn.metrics\n",
    "import sklearn.neighbors\n",
    "import sklearn.linear_model\n",
    "from sklearn.datasets import fetch_20newsgroups\n",
    "from sklearn.feature_extraction.text import TfidfVectorizer\n",
    "from sklearn.metrics import classification_report, accuracy_score, balanced_accuracy_score, plot_confusion_matrix"
   ],
   "outputs": [],
   "metadata": {}
  },
  {
   "cell_type": "code",
   "execution_count": 4,
   "source": [
    "# load example data\n",
    "data_train = fetch_20newsgroups(subset='train', shuffle=True)\n",
    "# this is just a list of strings\n",
    "data_test = fetch_20newsgroups(subset='test', shuffle=True)"
   ],
   "outputs": [],
   "metadata": {}
  },
  {
   "cell_type": "code",
   "execution_count": 5,
   "source": [
    "# %%\n",
    "def get_jsonl(path):\n",
    "\n",
    "    with open(path) as json_file:\n",
    "        json_list = list(json_file)\n",
    "\n",
    "    data_list = []\n",
    "    for json_str in json_list:\n",
    "        data_list.append(json.loads(json_str))\n",
    "\n",
    "    return pd.DataFrame(data_list)"
   ],
   "outputs": [],
   "metadata": {}
  },
  {
   "cell_type": "code",
   "execution_count": 6,
   "source": [
    "# %%\n",
    "# loading user  data \n",
    "USER_DATA = './resources/data/users.json'\n",
    "df_user = pd.read_json(USER_DATA, orient=\"index\")\n",
    "\n",
    "# loading training data .jsonl\n",
    "TRAINING_DATA = './resources/data/train.jsonl'\n",
    "VAL_DATA = './resources/data/val.jsonl'\n",
    "\n",
    "df_train, df_val = get_jsonl(TRAINING_DATA), get_jsonl(VAL_DATA)"
   ],
   "outputs": [],
   "metadata": {}
  },
  {
   "cell_type": "code",
   "execution_count": 127,
   "source": [
    "df_train.head(2)"
   ],
   "outputs": [
    {
     "output_type": "execute_result",
     "data": {
      "text/html": [
       "<div>\n",
       "<style scoped>\n",
       "    .dataframe tbody tr th:only-of-type {\n",
       "        vertical-align: middle;\n",
       "    }\n",
       "\n",
       "    .dataframe tbody tr th {\n",
       "        vertical-align: top;\n",
       "    }\n",
       "\n",
       "    .dataframe thead th {\n",
       "        text-align: right;\n",
       "    }\n",
       "</style>\n",
       "<table border=\"1\" class=\"dataframe\">\n",
       "  <thead>\n",
       "    <tr style=\"text-align: right;\">\n",
       "      <th></th>\n",
       "      <th>id</th>\n",
       "      <th>category</th>\n",
       "      <th>title</th>\n",
       "      <th>rounds</th>\n",
       "      <th>date</th>\n",
       "      <th>pro_debater</th>\n",
       "      <th>con_debater</th>\n",
       "      <th>voters</th>\n",
       "      <th>winner</th>\n",
       "    </tr>\n",
       "  </thead>\n",
       "  <tbody>\n",
       "    <tr>\n",
       "      <th>0</th>\n",
       "      <td>Atheism-is-more-probable-than-Theism./2/</td>\n",
       "      <td>Religion</td>\n",
       "      <td>Atheism is more probable than Theism.</td>\n",
       "      <td>[[{'side': 'Pro', 'text': '\n",
       "  \n",
       "  Thank you, Mu...</td>\n",
       "      <td>11/11/2012</td>\n",
       "      <td>Microsuck</td>\n",
       "      <td>Muted</td>\n",
       "      <td>[truthseeker613, emj32, RationalMadman, Magic8...</td>\n",
       "      <td>Pro</td>\n",
       "    </tr>\n",
       "    <tr>\n",
       "      <th>1</th>\n",
       "      <td>The-Bible-is-unnecessary-to-the-Christian-fait...</td>\n",
       "      <td>Religion</td>\n",
       "      <td>The Bible is unnecessary to the Christian faith.</td>\n",
       "      <td>[[{'side': 'Pro', 'text': '\n",
       "  \r\n",
       "The Bible is u...</td>\n",
       "      <td>6/10/2012</td>\n",
       "      <td>tapostol</td>\n",
       "      <td>Thaumaturgy</td>\n",
       "      <td>[Ore_Ele, Cobo, KRFournier, TheOrator, CalvinA...</td>\n",
       "      <td>Con</td>\n",
       "    </tr>\n",
       "  </tbody>\n",
       "</table>\n",
       "</div>"
      ],
      "text/plain": [
       "                                                  id  category  \\\n",
       "0           Atheism-is-more-probable-than-Theism./2/  Religion   \n",
       "1  The-Bible-is-unnecessary-to-the-Christian-fait...  Religion   \n",
       "\n",
       "                                              title  \\\n",
       "0             Atheism is more probable than Theism.   \n",
       "1  The Bible is unnecessary to the Christian faith.   \n",
       "\n",
       "                                              rounds        date pro_debater  \\\n",
       "0  [[{'side': 'Pro', 'text': '\n",
       "  \n",
       "  Thank you, Mu...  11/11/2012   Microsuck   \n",
       "1  [[{'side': 'Pro', 'text': '\n",
       "  \n",
       "The Bible is u...   6/10/2012    tapostol   \n",
       "\n",
       "   con_debater                                             voters winner  \n",
       "0        Muted  [truthseeker613, emj32, RationalMadman, Magic8...    Pro  \n",
       "1  Thaumaturgy  [Ore_Ele, Cobo, KRFournier, TheOrator, CalvinA...    Con  "
      ]
     },
     "metadata": {},
     "execution_count": 127
    }
   ],
   "metadata": {}
  },
  {
   "cell_type": "code",
   "execution_count": 178,
   "source": [
    "# %%\n",
    "df_train.columns\n",
    "# df_train\n",
    "# %%\n",
    "# Explore the structure of rounds\n",
    "one_round = df_train.loc[0, \"rounds\"] # this is a list of list of dictionary\n",
    "two_sides = one_round[1] # this is a list consists of two sides speaking\n",
    "\n",
    "import json\n",
    "# json.dumps(one_round, indent=4)\n",
    "# one_round\n"
   ],
   "outputs": [],
   "metadata": {}
  },
  {
   "cell_type": "code",
   "execution_count": 179,
   "source": [
    "def get_texts(df):\n",
    "    '''\n",
    "    Return a list of statements in df without differentiating the side of the speaker\n",
    "    '''\n",
    "\n",
    "    texts = []\n",
    "    for round in df.loc[:, 'rounds']:\n",
    "        for sub_round in round:\n",
    "            for speech in sub_round:\n",
    "                texts.append(speech['text'])\n",
    "\n",
    "    return texts\n",
    "\n",
    "def get_text_by_side(df): \n",
    "    '''\n",
    "    Return a list of documents where each document contains all text on one side in a \n",
    "    single debate\n",
    "    \n",
    "    text = [[Pro statement 1, Pro statement 2, ... Pro statement n],\n",
    "            [Con statement 1, Con statement 2, ... Con statement m]]\n",
    "            where n, m is the total number of statements from Pro and Con side across\n",
    "            all debates\n",
    "\n",
    "    size: [n x 2 x # statements in each debate]\n",
    "    '''\n",
    "\n",
    "    text = []\n",
    "    for round in df.loc[:, 'rounds']:\n",
    "        round_text = collections.defaultdict(list)\n",
    "\n",
    "        for sub_round in round:\n",
    "            for speech in sub_round: \n",
    "                round_text[speech['side']].append(speech['text'])\n",
    "\n",
    "        for speech in round_text.values():\n",
    "            text.append(\"\".join(speech))\n",
    "\n",
    "    return text\n",
    "\n",
    "def get_ngram_feature(df, vectorizer: TfidfVectorizer): \n",
    "    '''\n",
    "    Return the ngram features associated with a single debate\n",
    "\n",
    "    For pro side, each document is defined as a string that contains all the statements \n",
    "    from the pro side in a single debate (across different subrounds). Con side is \n",
    "    similarly defined. \n",
    "\n",
    "    return [[Pro side n gram vector, Con side n gram vector for 1 debate],\n",
    "            [Pro side n gram vector, Con side n gram vector for 2 debate],\n",
    "            ...]\n",
    "\n",
    "            size: [n, 2 x ngram count]\n",
    "    \n",
    "    Pro side and con side n gram vector are concatenated.\n",
    "    '''\n",
    "\n",
    "    pro_text, con_text = [], []\n",
    "\n",
    "    for round in df.loc[:, 'rounds']: \n",
    "        round_text_list = collections.defaultdict(list)\n",
    "        round_feature = []\n",
    "\n",
    "        for sub_round in round:\n",
    "            for speech in sub_round: \n",
    "                round_text_list[speech['side']].append(speech['text'])\n",
    "\n",
    "        round_text = {}\n",
    "        for side, speech in round_text_list.items():\n",
    "            one_side_text = \"\".join(speech)\n",
    "            round_text[side] = one_side_text\n",
    "            \n",
    "        pro_text.append(round_text['Pro'])\n",
    "        con_text.append(round_text['Con'])\n",
    "\n",
    "    pro_feature = vectorizer.transform(pro_text)\n",
    "    con_feature = vectorizer.transform(con_text)\n",
    "    print(\"pro , con shape are\", pro_feature.shape, con_feature.shape)\n",
    "    return sparse.hstack([pro_feature, con_feature])   \n",
    "\n",
    "def get_debate_feature(df):\n",
    "    '''\n",
    "    Return the debate feature such as category, pro_debator user name, etc\n",
    "\n",
    "    feature: [n, # of features] \n",
    "    '''\n",
    "    feature_name = ['category']\n",
    "    feature = []\n",
    "\n",
    "    for name in feature_name: \n",
    "        # TODO: check for data type of the column. If non-numeric, then do this\n",
    "        # otherwise, use the numerical data\n",
    "        encoding, unique_feature_val = pd.factorize(df[name])\n",
    "        feature.append(encoding)\n",
    "\n",
    "    return np.reshape(np.array(feature), [-1, len(feature_name)])\n",
    "\n",
    "    \n",
    "def get_winner(df): \n",
    "    '''\n",
    "    Cons gets mapped to 0 and pro gets mapped to 1\n",
    "    '''\n",
    "    return df.loc[:, \"winner\"].replace({\"Con\": 0, \"Pro\": 1})\n"
   ],
   "outputs": [],
   "metadata": {}
  },
  {
   "cell_type": "code",
   "execution_count": 171,
   "source": [
    "print(debate_feature_train.shape)\n",
    "print(debate_feture_val.shape)"
   ],
   "outputs": [
    {
     "output_type": "stream",
     "name": "stdout",
     "text": [
      "(1592, 1)\n",
      "(399, 1)\n"
     ]
    }
   ],
   "metadata": {}
  },
  {
   "cell_type": "code",
   "execution_count": 180,
   "source": [
    "# Extracting texts from training and testing data\n",
    "label_train = get_winner(df_train)\n",
    "label_val = get_winner(df_val)\n",
    "\n",
    "# Generate the corpus \n",
    "document_train = get_text_by_side(df_train)\n",
    "document_test = get_text_by_side(df_val)\n",
    "\n",
    "# Vectorization\n",
    "vectorizer = TfidfVectorizer(sublinear_tf=True, max_df=0.9, stop_words='english', ngram_range=(1,3))\n",
    "vectorizer.fit(document_train)\n",
    "\n",
    "# Getting two sets of features - ngram and debate related features\n",
    "ngram_feature_train = get_ngram_feature(df_train, vectorizer)\n",
    "ngram_feature_val = get_ngram_feature(df_val, vectorizer)\n",
    "\n",
    "debate_feature_train = get_debate_feature(df_train)\n",
    "debate_feture_val = get_debate_feature(df_val)\n",
    "\n",
    "# Combining two sets of features\n",
    "X_train = sparse.hstack([debate_feature_train, ngram_feature_train])\n",
    "X_val = sparse.hstack([debate_feture_val, ngram_feature_val])\n",
    "\n",
    "y_train = np.array(label_train)\n",
    "y_val = np.array(label_val)"
   ],
   "outputs": [
    {
     "output_type": "stream",
     "name": "stdout",
     "text": [
      "pro , con shape are (1592, 2960880) (1592, 2960880)\n",
      "pro , con shape are (399, 2960880) (399, 2960880)\n"
     ]
    }
   ],
   "metadata": {}
  },
  {
   "cell_type": "code",
   "execution_count": 186,
   "source": [
    "print('Sanity check')\n",
    "print(df_train.shape[0], 'number of observations in the training set')\n",
    "print(X_train.shape, 'number of observation x the size of ngram vectors in the training set')\n",
    "print(y_train.shape, 'number of labels in the training set')\n",
    "print(df_val.shape[0], 'number of observations in the validation set')\n",
    "print(X_val.shape, 'number of observation x the size of ngram vectors in the validation set')\n",
    "print(y_val.shape, 'number of labels in the validation set')\n"
   ],
   "outputs": [
    {
     "output_type": "stream",
     "name": "stdout",
     "text": [
      "Sanity check\n",
      "1592 number of observations in the training set\n",
      "(1592, 5921761) number of observation x the size of ngram vectors in the training set\n",
      "(1592,) number of labels in the training set\n",
      "399 number of observations in the validation set\n",
      "(399, 5921761) number of observation x the size of ngram vectors in the validation set\n",
      "(399,) number of labels in the validation set\n"
     ]
    }
   ],
   "metadata": {}
  },
  {
   "cell_type": "code",
   "execution_count": 187,
   "source": [
    "# Building and training the model\n",
    "clf = sklearn.linear_model.LogisticRegression()\n",
    "clf.fit(X_train, y_train)\n",
    "# %%"
   ],
   "outputs": [
    {
     "output_type": "execute_result",
     "data": {
      "text/plain": [
       "LogisticRegression()"
      ]
     },
     "metadata": {},
     "execution_count": 187
    }
   ],
   "metadata": {}
  },
  {
   "cell_type": "code",
   "execution_count": 189,
   "source": [
    "# Evaluating the model on the validation set\n",
    "y_predicted = clf.predict(X_val)\n",
    "print(\"Logistic Regression report:\")\n",
    "print(classification_report(y_val, y_predicted, target_names=['Pro', 'Con']))\n",
    "\n",
    "print(\"Accuracy score: \",accuracy_score(y_val, y_predicted))\n",
    "print(\"Balanced accuracy score: \",accuracy_score(y_val, y_predicted))\n",
    "\n",
    "plot_confusion_matrix(clf, X_val, y_predicted)"
   ],
   "outputs": [
    {
     "output_type": "stream",
     "name": "stdout",
     "text": [
      "Logistic Regression report:\n",
      "              precision    recall  f1-score   support\n",
      "\n",
      "         Pro       0.59      0.99      0.74       211\n",
      "         Con       0.93      0.23      0.37       188\n",
      "\n",
      "    accuracy                           0.63       399\n",
      "   macro avg       0.76      0.61      0.55       399\n",
      "weighted avg       0.75      0.63      0.56       399\n",
      "\n",
      "Accuracy score:  0.6290726817042607\n",
      "Balanced accuracy score:  0.6290726817042607\n"
     ]
    },
    {
     "output_type": "execute_result",
     "data": {
      "text/plain": [
       "<sklearn.metrics._plot.confusion_matrix.ConfusionMatrixDisplay at 0x7f7faa11f160>"
      ]
     },
     "metadata": {},
     "execution_count": 189
    },
    {
     "output_type": "display_data",
     "data": {
      "image/png": "[encoded data removed]",
      "text/plain": [
       "<Figure size 432x288 with 2 Axes>"
      ]
     },
     "metadata": {
      "needs_background": "light"
     }
    }
   ],
   "metadata": {}
  }
 ],
 "metadata": {
  "orig_nbformat": 4,
  "language_info": {
   "name": "python",
   "version": "3.6.13",
   "mimetype": "text/x-python",
   "codemirror_mode": {
    "name": "ipython",
    "version": 3
   },
   "pygments_lexer": "ipython3",
   "nbconvert_exporter": "python",
   "file_extension": ".py"
  },
  "kernelspec": {
   "name": "python3",
   "display_name": "Python 3.6.13 64-bit ('env_nlp': conda)"
  },
  "interpreter": {
   "hash": "f78e94ca1a29e9011c2866c841de859bf08fcc5b57f07b9ffb161018ea406f8e"
  }
 },
 "nbformat": 4,
 "nbformat_minor": 2
}